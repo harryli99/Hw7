{
 "cells": [
  {
   "cell_type": "code",
   "execution_count": 11,
   "metadata": {
    "collapsed": true
   },
   "outputs": [],
   "source": [
    "import tweepy\n",
    "import json\n",
    "import numpy as np\n",
    "import matplotlib.pyplot as plt\n",
    "import pandas as pd\n",
    "# Import and Initialize Sentiment Analyzer\n",
    "from vaderSentiment.vaderSentiment import SentimentIntensityAnalyzer\n",
    "analyzer = SentimentIntensityAnalyzer()"
   ]
  },
  {
   "cell_type": "code",
   "execution_count": 3,
   "metadata": {
    "collapsed": true
   },
   "outputs": [],
   "source": [
    "# Twitter API Keys\n",
    "consumer_key = 'gtue9EzYu5TtFO6je2xtOrBPl'\n",
    "consumer_secret = 'GUlNFl71RrkHljL3Q5w46FoeUp7gl1KPiVLsOBpH9nPviOjKO9'\n",
    "access_token = '942946263087038464-20jcxQDiydxE46CbGncApqpUlGCp58w'\n",
    "access_token_secret = 'y36pUFhmuZjMyjtlF5vRRziWhneHhmE9X3ivVneFTsx3z'\n",
    "\n",
    "# Setup Tweepy API Authentication\n",
    "auth = tweepy.OAuthHandler(consumer_key, consumer_secret)\n",
    "auth.set_access_token(access_token, access_token_secret)\n",
    "api = tweepy.API(auth, parser=tweepy.parsers.JSONParser())"
   ]
  },
  {
   "cell_type": "code",
   "execution_count": 4,
   "metadata": {
    "collapsed": true
   },
   "outputs": [],
   "source": [
    "#Get the most recent 100 tweets from a user and appending each tweet's sentiment score to lists\n",
    "def getTweetAnalysis(target_user):\n",
    "    compList = []\n",
    "    posList = []\n",
    "    negList = []\n",
    "    neutList = []\n",
    "    public_tweets = api.user_timeline(target_user, count = 100)\n",
    "    for tweets in public_tweets:\n",
    "        compound = analyzer.polarity_scores(tweets[\"text\"])[\"compound\"]\n",
    "        pos = analyzer.polarity_scores(tweets[\"text\"])[\"pos\"]\n",
    "        neu = analyzer.polarity_scores(tweets[\"text\"])[\"neu\"]\n",
    "        neg = analyzer.polarity_scores(tweets[\"text\"])[\"neg\"]\n",
    "        \n",
    "        compList.append(compound)\n",
    "        posList.append(pos)\n",
    "        negList.append(neg)\n",
    "        neutList.append(neu)\n",
    "    return compList, posList, negList, neutList"
   ]
  },
  {
   "cell_type": "code",
   "execution_count": 5,
   "metadata": {
    "collapsed": true
   },
   "outputs": [],
   "source": [
    "#Get the most recent 100 tweet's time stamp and text\n",
    "def getTweetInfo(target_user):\n",
    "    tweet_text = []\n",
    "    tweet_date = []\n",
    "    public_tweets = api.user_timeline(target_user, count = 100)\n",
    "    for tweets in public_tweets:\n",
    "        tweet_text.append(tweets[\"text\"])\n",
    "        tweet_date.append(tweets[\"created_at\"])\n",
    "    return tweet_text, tweet_date"
   ]
  },
  {
   "cell_type": "code",
   "execution_count": 6,
   "metadata": {
    "collapsed": true
   },
   "outputs": [],
   "source": [
    "bbc_compList, bbc_posList, bbc_negList, bbc_neutList = getTweetAnalysis(\"@BBC\")\n",
    "cbs_compList, cbs_posList, cbs_negList, cbs_neutList = getTweetAnalysis(\"@CBS\")\n",
    "cnn_compList, cnn_posList, cnn_negList, cnn_neutList = getTweetAnalysis(\"@CNN\")\n",
    "fox_compList, fox_posList, fox_negList, fox_neutList = getTweetAnalysis(\"@FoxNews\")\n",
    "nyt_compList, nyt_posList, nyt_negList, nyt_neutList = getTweetAnalysis(\"@nytimes\")"
   ]
  },
  {
   "cell_type": "code",
   "execution_count": 7,
   "metadata": {
    "collapsed": true
   },
   "outputs": [],
   "source": [
    "bbc_text, bbc_date = getTweetInfo(\"@BBC\")\n",
    "cbs_text, cbs_date = getTweetInfo(\"@CBS\")\n",
    "cnn_text, cnn_date = getTweetInfo(\"@CNN\")\n",
    "fox_text, fox_date = getTweetInfo(\"@FoxNews\")\n",
    "nyt_text, nyt_date = getTweetInfo(\"@nytimes\")"
   ]
  },
  {
   "cell_type": "code",
   "execution_count": 8,
   "metadata": {
    "collapsed": true
   },
   "outputs": [],
   "source": [
    "#Create the DataFrame\n",
    "bbc_df = pd.DataFrame({\"Account Name\": \"@BBC\", \"Date Created\": bbc_date, \"Tweet\": bbc_text, \"Pos. Sentiment Score\":bbc_posList,\n",
    "                      \"Neg. Sentiment Score\": bbc_negList, \"Neut. Sentiment Score\": bbc_neutList, \"Comp. Sentiment Score\": bbc_compList})\n",
    "cbs_df = pd.DataFrame({\"Account Name\": \"@CBS\", \"Date Created\": cbs_date, \"Tweet\": cbs_text, \"Pos. Sentiment Score\":cbs_posList,\n",
    "                      \"Neg. Sentiment Score\": cbs_negList, \"Neut. Sentiment Score\": cbs_neutList, \"Comp. Sentiment Score\": cbs_compList})\n",
    "cnn_df = pd.DataFrame({\"Account Name\": \"@CNN\", \"Date Created\": cnn_date, \"Tweet\": cnn_text, \"Pos. Sentiment Score\": cnn_posList,\n",
    "                      \"Neg. Sentiment Score\": cnn_negList, \"Neut. Sentiment Score\": cnn_neutList, \"Comp. Sentiment Score\": cnn_compList})\n",
    "fox_df = pd.DataFrame({\"Account Name\": \"@FoxNews\", \"Date Created\": fox_date, \"Tweet\": fox_text, \"Pos. Sentiment Score\":fox_posList,\n",
    "                      \"Neg. Sentiment Score\": fox_negList, \"Neut. Sentiment Score\": fox_neutList, \"Comp. Sentiment Score\": fox_compList})\n",
    "nyt_df = pd.DataFrame({\"Account Name\": \"@nytimes\", \"Date Created\": nyt_date, \"Tweet\": nyt_text, \"Pos. Sentiment Score\":nyt_posList,\n",
    "                      \"Neg. Sentiment Score\": nyt_negList, \"Neut. Sentiment Score\": nyt_neutList, \"Comp. Sentiment Score\": nyt_compList})"
   ]
  },
  {
   "cell_type": "code",
   "execution_count": 9,
   "metadata": {},
   "outputs": [
    {
     "data": {
      "text/html": [
       "<div>\n",
       "<style>\n",
       "    .dataframe thead tr:only-child th {\n",
       "        text-align: right;\n",
       "    }\n",
       "\n",
       "    .dataframe thead th {\n",
       "        text-align: left;\n",
       "    }\n",
       "\n",
       "    .dataframe tbody tr th {\n",
       "        vertical-align: top;\n",
       "    }\n",
       "</style>\n",
       "<table border=\"1\" class=\"dataframe\">\n",
       "  <thead>\n",
       "    <tr style=\"text-align: right;\">\n",
       "      <th></th>\n",
       "      <th>Account Name</th>\n",
       "      <th>Date Created</th>\n",
       "      <th>Tweet</th>\n",
       "      <th>Pos. Sentiment Score</th>\n",
       "      <th>Neg. Sentiment Score</th>\n",
       "      <th>Neut. Sentiment Score</th>\n",
       "      <th>Comp. Sentiment Score</th>\n",
       "    </tr>\n",
       "  </thead>\n",
       "  <tbody>\n",
       "    <tr>\n",
       "      <th>0</th>\n",
       "      <td>@BBC</td>\n",
       "      <td>Mon Jan 08 21:29:44 +0000 2018</td>\n",
       "      <td>RT @bbc5live: Looking for some exercise and nu...</td>\n",
       "      <td>0.095</td>\n",
       "      <td>0.000</td>\n",
       "      <td>0.905</td>\n",
       "      <td>0.2960</td>\n",
       "    </tr>\n",
       "    <tr>\n",
       "      <th>1</th>\n",
       "      <td>@BBC</td>\n",
       "      <td>Mon Jan 08 21:29:01 +0000 2018</td>\n",
       "      <td>RT @bbcasiannetwork: 📡 The Asian Network Futur...</td>\n",
       "      <td>0.000</td>\n",
       "      <td>0.000</td>\n",
       "      <td>1.000</td>\n",
       "      <td>0.0000</td>\n",
       "    </tr>\n",
       "    <tr>\n",
       "      <th>2</th>\n",
       "      <td>@BBC</td>\n",
       "      <td>Mon Jan 08 21:28:07 +0000 2018</td>\n",
       "      <td>RT @bbcthesocial: Jordan thought nobody would ...</td>\n",
       "      <td>0.069</td>\n",
       "      <td>0.099</td>\n",
       "      <td>0.831</td>\n",
       "      <td>-0.1655</td>\n",
       "    </tr>\n",
       "    <tr>\n",
       "      <th>3</th>\n",
       "      <td>@BBC</td>\n",
       "      <td>Mon Jan 08 21:27:12 +0000 2018</td>\n",
       "      <td>RT @bbcworldservice: \"Our job as journalists i...</td>\n",
       "      <td>0.095</td>\n",
       "      <td>0.000</td>\n",
       "      <td>0.905</td>\n",
       "      <td>0.3182</td>\n",
       "    </tr>\n",
       "    <tr>\n",
       "      <th>4</th>\n",
       "      <td>@BBC</td>\n",
       "      <td>Mon Jan 08 21:23:06 +0000 2018</td>\n",
       "      <td>RT @BBCiPlayer: 🎁 #HardSun is the new #boxset ...</td>\n",
       "      <td>0.000</td>\n",
       "      <td>0.118</td>\n",
       "      <td>0.882</td>\n",
       "      <td>-0.2500</td>\n",
       "    </tr>\n",
       "  </tbody>\n",
       "</table>\n",
       "</div>"
      ],
      "text/plain": [
       "  Account Name                    Date Created  \\\n",
       "0         @BBC  Mon Jan 08 21:29:44 +0000 2018   \n",
       "1         @BBC  Mon Jan 08 21:29:01 +0000 2018   \n",
       "2         @BBC  Mon Jan 08 21:28:07 +0000 2018   \n",
       "3         @BBC  Mon Jan 08 21:27:12 +0000 2018   \n",
       "4         @BBC  Mon Jan 08 21:23:06 +0000 2018   \n",
       "\n",
       "                                               Tweet  Pos. Sentiment Score  \\\n",
       "0  RT @bbc5live: Looking for some exercise and nu...                 0.095   \n",
       "1  RT @bbcasiannetwork: 📡 The Asian Network Futur...                 0.000   \n",
       "2  RT @bbcthesocial: Jordan thought nobody would ...                 0.069   \n",
       "3  RT @bbcworldservice: \"Our job as journalists i...                 0.095   \n",
       "4  RT @BBCiPlayer: 🎁 #HardSun is the new #boxset ...                 0.000   \n",
       "\n",
       "   Neg. Sentiment Score  Neut. Sentiment Score  Comp. Sentiment Score  \n",
       "0                 0.000                  0.905                 0.2960  \n",
       "1                 0.000                  1.000                 0.0000  \n",
       "2                 0.099                  0.831                -0.1655  \n",
       "3                 0.000                  0.905                 0.3182  \n",
       "4                 0.118                  0.882                -0.2500  "
      ]
     },
     "execution_count": 9,
     "metadata": {},
     "output_type": "execute_result"
    }
   ],
   "source": [
    "#Concatenate to 1 frame\n",
    "frame = [bbc_df, cbs_df, cnn_df, fox_df, nyt_df]\n",
    "twitter_df = pd.concat(frame)\n",
    "twitter_df.reset_index(inplace=True)\n",
    "twitter_df = twitter_df[[\"Account Name\", \"Date Created\", \"Tweet\", \"Pos. Sentiment Score\", \n",
    "                         \"Neg. Sentiment Score\", \"Neut. Sentiment Score\", \"Comp. Sentiment Score\"]]\n",
    "twitter_df.head()"
   ]
  },
  {
   "cell_type": "code",
   "execution_count": 61,
   "metadata": {
    "collapsed": true
   },
   "outputs": [],
   "source": [
    "twitter_df.to_csv(\"TwitterAnalysis.csv\")"
   ]
  },
  {
   "cell_type": "code",
   "execution_count": 10,
   "metadata": {
    "collapsed": true,
    "scrolled": true
   },
   "outputs": [],
   "source": [
    "#Setting up x and y values for the scatterplot\n",
    "tweet_ago = list(range(99,-1,-1))\n",
    "bbc_compScore = twitter_df[twitter_df[\"Account Name\"] == \"@BBC\"][\"Comp. Sentiment Score\"]\n",
    "cbs_compScore = twitter_df[twitter_df[\"Account Name\"] == \"@CBS\"][\"Comp. Sentiment Score\"]\n",
    "cnn_compScore = twitter_df[twitter_df[\"Account Name\"] == \"@CNN\"][\"Comp. Sentiment Score\"]\n",
    "fox_compScore = twitter_df[twitter_df[\"Account Name\"] == \"@FoxNews\"][\"Comp. Sentiment Score\"]\n",
    "nyt_compScore = twitter_df[twitter_df[\"Account Name\"] == \"@nytimes\"][\"Comp. Sentiment Score\"]"
   ]
  },
  {
   "cell_type": "code",
   "execution_count": 12,
   "metadata": {},
   "outputs": [
    {
     "data": {
      "image/png": "[encoded data removed]",
      "text/plain": [
       "<matplotlib.figure.Figure at 0x25681701630>"
      ]
     },
     "metadata": {},
     "output_type": "display_data"
    }
   ],
   "source": [
    "#Setup Scatterplot\n",
    "plt.scatter(tweet_ago, bbc_compScore, label = \"BBC\")\n",
    "plt.scatter(tweet_ago, cbs_compScore, label = \"CBS\")\n",
    "plt.scatter(tweet_ago, cnn_compScore, label = \"CNN\")\n",
    "plt.scatter(tweet_ago, fox_compScore, label = \"Fox\")\n",
    "plt.scatter(tweet_ago, nyt_compScore, label = \"NY Times\")\n",
    "lgd = plt.legend(title = \"Media Sources\", bbox_to_anchor=(1.0, 1.05))\n",
    "plt.title(\"Sentiment Analysis of Media Tweets (01/08/2018)\")\n",
    "plt.xlim(100,0)\n",
    "plt.ylim(-1,1)\n",
    "plt.xlabel(\"Tweets Ago\")\n",
    "plt.ylabel(\"Tweet Polarity\")\n",
    "plt.grid()\n",
    "plt.savefig(\"TweetSentAnalysis.png\", bbox_extra_artists=(lgd,), bbox_inches='tight')\n",
    "plt.show()"
   ]
  },
  {
   "cell_type": "code",
   "execution_count": 16,
   "metadata": {
    "collapsed": true
   },
   "outputs": [],
   "source": [
    "#Setup x and y values for the bar chart\n",
    "bbc_agg_compScore = bbc_compScore.sum()\n",
    "cbs_agg_compScore = cbs_compScore.sum()\n",
    "cnn_agg_compScore = cnn_compScore.sum()\n",
    "fox_agg_compScore = fox_compScore.sum()\n",
    "nyt_agg_compScore = nyt_compScore.sum()\n",
    "media_source = [\"BBC\", \"CBS\", \"CNN\", \"FoxNews\", \"nytimes\"]\n",
    "media_agg_score = [bbc_agg_compScore,cbs_agg_compScore,cnn_agg_compScore,fox_agg_compScore,nyt_agg_compScore]"
   ]
  },
  {
   "cell_type": "code",
   "execution_count": 21,
   "metadata": {},
   "outputs": [
    {
     "data": {
      "image/png": "[encoded data removed]",
      "text/plain": [
       "<matplotlib.figure.Figure at 0x221a3b28518>"
      ]
     },
     "metadata": {},
     "output_type": "display_data"
    }
   ],
   "source": [
    "#Setup bar chart\n",
    "x = [1,2,3,4,5]\n",
    "plt.bar(x,media_agg_score)\n",
    "plt.title(\"Overall Sentiment Analysis of Media Tweets (01/08/2018)\")\n",
    "plt.xlabel(\"Tweets Ago\")\n",
    "plt.ylabel(\"Tweet Polarity\")\n",
    "plt.xticks(x, media_source)\n",
    "plt.savefig(\"OverallSentAnalysis.png\")\n",
    "plt.show()"
   ]
  },
  {
   "cell_type": "code",
   "execution_count": null,
   "metadata": {
    "collapsed": true
   },
   "outputs": [],
   "source": []
  }
 ],
 "metadata": {
  "kernelspec": {
   "display_name": "Python 3",
   "language": "python",
   "name": "python3"
  },
  "language_info": {
   "codemirror_mode": {
    "name": "ipython",
    "version": 3
   },
   "file_extension": ".py",
   "mimetype": "text/x-python",
   "name": "python",
   "nbconvert_exporter": "python",
   "pygments_lexer": "ipython3",
   "version": "3.6.3"
  }
 },
 "nbformat": 4,
 "nbformat_minor": 2
}
